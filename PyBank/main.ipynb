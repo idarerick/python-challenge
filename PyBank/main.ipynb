{
 "cells": [
  {
   "cell_type": "code",
   "execution_count": 1,
   "metadata": {},
   "outputs": [],
   "source": [
    "import pandas as pd"
   ]
  },
  {
   "cell_type": "code",
   "execution_count": 2,
   "metadata": {},
   "outputs": [],
   "source": [
    "csvpath =\"resources/budget_data.csv\""
   ]
  },
  {
   "cell_type": "code",
   "execution_count": 17,
   "metadata": {},
   "outputs": [],
   "source": [
    "budget_df = pd.read_csv(csvpath)\n",
    "date_df = budget_df.set_index(\"Revenue\")"
   ]
  },
  {
   "cell_type": "code",
   "execution_count": 18,
   "metadata": {},
   "outputs": [
    {
     "name": "stdout",
     "output_type": "stream",
     "text": [
      "41\n"
     ]
    }
   ],
   "source": [
    "totalmonths = len(budget_df)\n",
    "#printing for verification\n",
    "print(totalmonths)"
   ]
  },
  {
   "cell_type": "code",
   "execution_count": 19,
   "metadata": {},
   "outputs": [
    {
     "name": "stdout",
     "output_type": "stream",
     "text": [
      "Revenue    18971412\n",
      "dtype: int64\n"
     ]
    }
   ],
   "source": [
    "netprofit = budget_df[[\"Revenue\"]].sum()\n",
    "#printing for verification\n",
    "print(netprofit)"
   ]
  },
  {
   "cell_type": "code",
   "execution_count": 20,
   "metadata": {},
   "outputs": [
    {
     "name": "stdout",
     "output_type": "stream",
     "text": [
      "Revenue    462717.365854\n",
      "dtype: float64\n"
     ]
    }
   ],
   "source": [
    "avg = netprofit/totalmonths\n",
    "#printing for verification\n",
    "print(avg)"
   ]
  },
  {
   "cell_type": "code",
   "execution_count": 21,
   "metadata": {},
   "outputs": [
    {
     "name": "stdout",
     "output_type": "stream",
     "text": [
      "Revenue\n",
      "1195111    Sep-15\n",
      "Name: Date, dtype: object\n"
     ]
    }
   ],
   "source": [
    "maxprof = budget_df[[\"Revenue\"]].max()\n",
    "monthofmaxprof = date_df.loc[maxprof, \"Date\"]\n",
    "#printing for verification\n",
    "print(monthofmaxprof)"
   ]
  },
  {
   "cell_type": "code",
   "execution_count": 22,
   "metadata": {},
   "outputs": [
    {
     "name": "stdout",
     "output_type": "stream",
     "text": [
      "Revenue\n",
      "-1172384    Aug-14\n",
      "Name: Date, dtype: object\n"
     ]
    }
   ],
   "source": [
    "maxloss = budget_df[[\"Revenue\"]].min()\n",
    "monthofmaxloss = date_df.loc[maxloss, \"Date\"]\n",
    "#printing for verification\n",
    "print(monthofmaxloss)"
   ]
  },
  {
   "cell_type": "code",
   "execution_count": 23,
   "metadata": {},
   "outputs": [
    {
     "name": "stdout",
     "output_type": "stream",
     "text": [
      "Financial Analysis------------------------------------------------\n",
      "Total Months: 41\n",
      "Total Revenue: $Revenue    18971412\n",
      "dtype: int64\n",
      "Average Change in Revenue: $Revenue    462717.365854\n",
      "dtype: float64\n",
      "Greatest Increase in Profits: Revenue\n",
      "1195111    Sep-15\n",
      "Name: Date, dtype: object\n",
      "Greatest Decrease in Profits: Revenue\n",
      "-1172384    Aug-14\n",
      "Name: Date, dtype: object\n"
     ]
    }
   ],
   "source": [
    "print(\"Financial Analysis\"\n",
    "      \"------------------------------------------------\")\n",
    "print(\"Total Months: \" + str(totalmonths))\n",
    "print(\"Total Revenue: $\" + str(netprofit))\n",
    "print(\"Average Change in Revenue: $\" + str(avg))\n",
    "print(\"Greatest Increase in Profits: \" + str(monthofmaxprof))\n",
    "print(\"Greatest Decrease in Profits: \" + str(monthofmaxloss))"
   ]
  },
  {
   "cell_type": "code",
   "execution_count": null,
   "metadata": {},
   "outputs": [],
   "source": []
  },
  {
   "cell_type": "code",
   "execution_count": null,
   "metadata": {},
   "outputs": [],
   "source": []
  },
  {
   "cell_type": "code",
   "execution_count": null,
   "metadata": {},
   "outputs": [],
   "source": []
  }
 ],
 "metadata": {
  "kernelspec": {
   "display_name": "Python 3",
   "language": "python",
   "name": "python3"
  },
  "language_info": {
   "codemirror_mode": {
    "name": "ipython",
    "version": 3
   },
   "file_extension": ".py",
   "mimetype": "text/x-python",
   "name": "python",
   "nbconvert_exporter": "python",
   "pygments_lexer": "ipython3",
   "version": "3.6.5"
  }
 },
 "nbformat": 4,
 "nbformat_minor": 2
}
